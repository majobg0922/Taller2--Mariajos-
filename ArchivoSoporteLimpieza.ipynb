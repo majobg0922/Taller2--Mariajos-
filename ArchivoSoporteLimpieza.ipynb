{
 "cells": [
  {
   "cell_type": "code",
   "execution_count": null,
   "id": "4719ae6f",
   "metadata": {},
   "outputs": [],
   "source": [
    "# IMPORTAR PAQUETES\n",
    "import numpy as np\n",
    "import pandas as pd\n"
   ]
  },
  {
   "cell_type": "markdown",
   "id": "163859b9",
   "metadata": {},
   "source": [
    "1. Convertir el archivo CSV a un DataFrame de pandas y mostrar las primeras filas\n"
   ]
  },
  {
   "cell_type": "code",
   "execution_count": null,
   "id": "347a7d45",
   "metadata": {},
   "outputs": [
    {
     "data": {
      "text/html": [
       "<div>\n",
       "<style scoped>\n",
       "    .dataframe tbody tr th:only-of-type {\n",
       "        vertical-align: middle;\n",
       "    }\n",
       "\n",
       "    .dataframe tbody tr th {\n",
       "        vertical-align: top;\n",
       "    }\n",
       "\n",
       "    .dataframe thead th {\n",
       "        text-align: right;\n",
       "    }\n",
       "</style>\n",
       "<table border=\"1\" class=\"dataframe\">\n",
       "  <thead>\n",
       "    <tr style=\"text-align: right;\">\n",
       "      <th></th>\n",
       "      <th>Brand</th>\n",
       "      <th>Model</th>\n",
       "      <th>Selling_Price</th>\n",
       "      <th>Year</th>\n",
       "      <th>Seller_Type</th>\n",
       "      <th>Owner</th>\n",
       "      <th>KM_Driven</th>\n",
       "      <th>Ex_Showroom_Price</th>\n",
       "    </tr>\n",
       "  </thead>\n",
       "  <tbody>\n",
       "    <tr>\n",
       "      <th>0</th>\n",
       "      <td>TVS</td>\n",
       "      <td>TVS XL 100</td>\n",
       "      <td>30000</td>\n",
       "      <td>2017</td>\n",
       "      <td>Individual</td>\n",
       "      <td>1st owner</td>\n",
       "      <td>8000</td>\n",
       "      <td>30490.0</td>\n",
       "    </tr>\n",
       "    <tr>\n",
       "      <th>1</th>\n",
       "      <td>Bajaj</td>\n",
       "      <td>Bajaj  ct 100</td>\n",
       "      <td>18000</td>\n",
       "      <td>2017</td>\n",
       "      <td>Individual</td>\n",
       "      <td>1st owner</td>\n",
       "      <td>35000</td>\n",
       "      <td>32000.0</td>\n",
       "    </tr>\n",
       "    <tr>\n",
       "      <th>2</th>\n",
       "      <td>Yo</td>\n",
       "      <td>Yo Style</td>\n",
       "      <td>20000</td>\n",
       "      <td>2011</td>\n",
       "      <td>Individual</td>\n",
       "      <td>1st owner</td>\n",
       "      <td>10000</td>\n",
       "      <td>37675.0</td>\n",
       "    </tr>\n",
       "    <tr>\n",
       "      <th>3</th>\n",
       "      <td>Bajaj</td>\n",
       "      <td>Bajaj Discover 100</td>\n",
       "      <td>25000</td>\n",
       "      <td>2010</td>\n",
       "      <td>Individual</td>\n",
       "      <td>1st owner</td>\n",
       "      <td>43000</td>\n",
       "      <td>42859.0</td>\n",
       "    </tr>\n",
       "    <tr>\n",
       "      <th>4</th>\n",
       "      <td>Bajaj</td>\n",
       "      <td>Bajaj Discover 100</td>\n",
       "      <td>24999</td>\n",
       "      <td>2012</td>\n",
       "      <td>Individual</td>\n",
       "      <td>2nd owner</td>\n",
       "      <td>35000</td>\n",
       "      <td>42859.0</td>\n",
       "    </tr>\n",
       "  </tbody>\n",
       "</table>\n",
       "</div>"
      ],
      "text/plain": [
       "   Brand               Model  Selling_Price  Year Seller_Type      Owner  \\\n",
       "0    TVS          TVS XL 100          30000  2017  Individual  1st owner   \n",
       "1  Bajaj       Bajaj  ct 100          18000  2017  Individual  1st owner   \n",
       "2     Yo            Yo Style          20000  2011  Individual  1st owner   \n",
       "3  Bajaj  Bajaj Discover 100          25000  2010  Individual  1st owner   \n",
       "4  Bajaj  Bajaj Discover 100          24999  2012  Individual  2nd owner   \n",
       "\n",
       "   KM_Driven  Ex_Showroom_Price  \n",
       "0       8000            30490.0  \n",
       "1      35000            32000.0  \n",
       "2      10000            37675.0  \n",
       "3      43000            42859.0  \n",
       "4      35000            42859.0  "
      ]
     },
     "execution_count": 2,
     "metadata": {},
     "output_type": "execute_result"
    }
   ],
   "source": [
    "\n",
    "\n",
    "df = pd.read_csv(\"BikePrices.csv\")\n",
    "df.head()\n"
   ]
  },
  {
   "cell_type": "markdown",
   "id": "7967304f",
   "metadata": {},
   "source": [
    "2. Verifica si hay valores no nulos en cada columna del df"
   ]
  },
  {
   "cell_type": "code",
   "execution_count": null,
   "id": "c8f4346a",
   "metadata": {},
   "outputs": [
    {
     "data": {
      "text/plain": [
       "Brand                1061\n",
       "Model                1061\n",
       "Selling_Price        1061\n",
       "Year                 1061\n",
       "Seller_Type          1061\n",
       "Owner                1061\n",
       "KM_Driven            1061\n",
       "Ex_Showroom_Price     626\n",
       "dtype: int64"
      ]
     },
     "execution_count": 4,
     "metadata": {},
     "output_type": "execute_result"
    }
   ],
   "source": [
    "\n",
    "\n",
    "df.notna().sum()\n"
   ]
  },
  {
   "cell_type": "markdown",
   "id": "15088f75",
   "metadata": {},
   "source": [
    "3. Muestra los faltantes de cada columna "
   ]
  },
  {
   "cell_type": "code",
   "execution_count": null,
   "id": "7430f435",
   "metadata": {},
   "outputs": [
    {
     "data": {
      "text/plain": [
       "Brand                  0\n",
       "Model                  0\n",
       "Selling_Price          0\n",
       "Year                   0\n",
       "Seller_Type            0\n",
       "Owner                  0\n",
       "KM_Driven              0\n",
       "Ex_Showroom_Price    435\n",
       "dtype: int64"
      ]
     },
     "execution_count": 5,
     "metadata": {},
     "output_type": "execute_result"
    }
   ],
   "source": [
    "# \n",
    "\n",
    "df.isna().sum()\n"
   ]
  },
  {
   "cell_type": "markdown",
   "id": "ba5c6410",
   "metadata": {},
   "source": [
    "4. Elimina las filas que tienen al menos un faltante "
   ]
  },
  {
   "cell_type": "code",
   "execution_count": null,
   "id": "257d2727",
   "metadata": {},
   "outputs": [
    {
     "data": {
      "text/html": [
       "<div>\n",
       "<style scoped>\n",
       "    .dataframe tbody tr th:only-of-type {\n",
       "        vertical-align: middle;\n",
       "    }\n",
       "\n",
       "    .dataframe tbody tr th {\n",
       "        vertical-align: top;\n",
       "    }\n",
       "\n",
       "    .dataframe thead th {\n",
       "        text-align: right;\n",
       "    }\n",
       "</style>\n",
       "<table border=\"1\" class=\"dataframe\">\n",
       "  <thead>\n",
       "    <tr style=\"text-align: right;\">\n",
       "      <th></th>\n",
       "      <th>Brand</th>\n",
       "      <th>Model</th>\n",
       "      <th>Selling_Price</th>\n",
       "      <th>Year</th>\n",
       "      <th>Seller_Type</th>\n",
       "      <th>Owner</th>\n",
       "      <th>KM_Driven</th>\n",
       "      <th>Ex_Showroom_Price</th>\n",
       "    </tr>\n",
       "  </thead>\n",
       "  <tbody>\n",
       "    <tr>\n",
       "      <th>0</th>\n",
       "      <td>TVS</td>\n",
       "      <td>TVS XL 100</td>\n",
       "      <td>30000</td>\n",
       "      <td>2017</td>\n",
       "      <td>Individual</td>\n",
       "      <td>1st owner</td>\n",
       "      <td>8000</td>\n",
       "      <td>30490.0</td>\n",
       "    </tr>\n",
       "    <tr>\n",
       "      <th>1</th>\n",
       "      <td>Bajaj</td>\n",
       "      <td>Bajaj  ct 100</td>\n",
       "      <td>18000</td>\n",
       "      <td>2017</td>\n",
       "      <td>Individual</td>\n",
       "      <td>1st owner</td>\n",
       "      <td>35000</td>\n",
       "      <td>32000.0</td>\n",
       "    </tr>\n",
       "    <tr>\n",
       "      <th>2</th>\n",
       "      <td>Yo</td>\n",
       "      <td>Yo Style</td>\n",
       "      <td>20000</td>\n",
       "      <td>2011</td>\n",
       "      <td>Individual</td>\n",
       "      <td>1st owner</td>\n",
       "      <td>10000</td>\n",
       "      <td>37675.0</td>\n",
       "    </tr>\n",
       "    <tr>\n",
       "      <th>3</th>\n",
       "      <td>Bajaj</td>\n",
       "      <td>Bajaj Discover 100</td>\n",
       "      <td>25000</td>\n",
       "      <td>2010</td>\n",
       "      <td>Individual</td>\n",
       "      <td>1st owner</td>\n",
       "      <td>43000</td>\n",
       "      <td>42859.0</td>\n",
       "    </tr>\n",
       "    <tr>\n",
       "      <th>4</th>\n",
       "      <td>Bajaj</td>\n",
       "      <td>Bajaj Discover 100</td>\n",
       "      <td>24999</td>\n",
       "      <td>2012</td>\n",
       "      <td>Individual</td>\n",
       "      <td>2nd owner</td>\n",
       "      <td>35000</td>\n",
       "      <td>42859.0</td>\n",
       "    </tr>\n",
       "    <tr>\n",
       "      <th>...</th>\n",
       "      <td>...</td>\n",
       "      <td>...</td>\n",
       "      <td>...</td>\n",
       "      <td>...</td>\n",
       "      <td>...</td>\n",
       "      <td>...</td>\n",
       "      <td>...</td>\n",
       "      <td>...</td>\n",
       "    </tr>\n",
       "    <tr>\n",
       "      <th>621</th>\n",
       "      <td>Harley</td>\n",
       "      <td>Harley-Davidson Street 750</td>\n",
       "      <td>330000</td>\n",
       "      <td>2014</td>\n",
       "      <td>Individual</td>\n",
       "      <td>4th owner</td>\n",
       "      <td>6500</td>\n",
       "      <td>534000.0</td>\n",
       "    </tr>\n",
       "    <tr>\n",
       "      <th>622</th>\n",
       "      <td>Kawasaki</td>\n",
       "      <td>Kawasaki Ninja 650 [2018-2019]</td>\n",
       "      <td>300000</td>\n",
       "      <td>2011</td>\n",
       "      <td>Individual</td>\n",
       "      <td>1st owner</td>\n",
       "      <td>12000</td>\n",
       "      <td>589000.0</td>\n",
       "    </tr>\n",
       "    <tr>\n",
       "      <th>623</th>\n",
       "      <td>Kawasaki</td>\n",
       "      <td>Kawasaki Ninja 650 [2018-2019]</td>\n",
       "      <td>425000</td>\n",
       "      <td>2017</td>\n",
       "      <td>Individual</td>\n",
       "      <td>2nd owner</td>\n",
       "      <td>13600</td>\n",
       "      <td>599000.0</td>\n",
       "    </tr>\n",
       "    <tr>\n",
       "      <th>624</th>\n",
       "      <td>Suzuki</td>\n",
       "      <td>Suzuki GSX S750</td>\n",
       "      <td>760000</td>\n",
       "      <td>2019</td>\n",
       "      <td>Individual</td>\n",
       "      <td>1st owner</td>\n",
       "      <td>2800</td>\n",
       "      <td>752020.0</td>\n",
       "    </tr>\n",
       "    <tr>\n",
       "      <th>625</th>\n",
       "      <td>Harley</td>\n",
       "      <td>Harley-Davidson Street Bob</td>\n",
       "      <td>750000</td>\n",
       "      <td>2013</td>\n",
       "      <td>Individual</td>\n",
       "      <td>2nd owner</td>\n",
       "      <td>12000</td>\n",
       "      <td>1278000.0</td>\n",
       "    </tr>\n",
       "  </tbody>\n",
       "</table>\n",
       "<p>626 rows × 8 columns</p>\n",
       "</div>"
      ],
      "text/plain": [
       "        Brand                           Model  Selling_Price  Year  \\\n",
       "0         TVS                      TVS XL 100          30000  2017   \n",
       "1       Bajaj                   Bajaj  ct 100          18000  2017   \n",
       "2          Yo                        Yo Style          20000  2011   \n",
       "3       Bajaj              Bajaj Discover 100          25000  2010   \n",
       "4       Bajaj              Bajaj Discover 100          24999  2012   \n",
       "..        ...                             ...            ...   ...   \n",
       "621    Harley      Harley-Davidson Street 750         330000  2014   \n",
       "622  Kawasaki  Kawasaki Ninja 650 [2018-2019]         300000  2011   \n",
       "623  Kawasaki  Kawasaki Ninja 650 [2018-2019]         425000  2017   \n",
       "624    Suzuki                 Suzuki GSX S750         760000  2019   \n",
       "625    Harley      Harley-Davidson Street Bob         750000  2013   \n",
       "\n",
       "    Seller_Type      Owner  KM_Driven  Ex_Showroom_Price  \n",
       "0    Individual  1st owner       8000            30490.0  \n",
       "1    Individual  1st owner      35000            32000.0  \n",
       "2    Individual  1st owner      10000            37675.0  \n",
       "3    Individual  1st owner      43000            42859.0  \n",
       "4    Individual  2nd owner      35000            42859.0  \n",
       "..          ...        ...        ...                ...  \n",
       "621  Individual  4th owner       6500           534000.0  \n",
       "622  Individual  1st owner      12000           589000.0  \n",
       "623  Individual  2nd owner      13600           599000.0  \n",
       "624  Individual  1st owner       2800           752020.0  \n",
       "625  Individual  2nd owner      12000          1278000.0  \n",
       "\n",
       "[626 rows x 8 columns]"
      ]
     },
     "execution_count": 6,
     "metadata": {},
     "output_type": "execute_result"
    }
   ],
   "source": [
    "\n",
    "df.dropna()\n"
   ]
  },
  {
   "cell_type": "markdown",
   "id": "a2c33d90",
   "metadata": {},
   "source": [
    "5. Muestra filas y columnas luego de eliminar los valores faltantes."
   ]
  },
  {
   "cell_type": "code",
   "execution_count": 8,
   "id": "ab59a255",
   "metadata": {},
   "outputs": [
    {
     "data": {
      "text/plain": [
       "(626, 8)"
      ]
     },
     "execution_count": 8,
     "metadata": {},
     "output_type": "execute_result"
    }
   ],
   "source": [
    "df.dropna().shape\n"
   ]
  },
  {
   "cell_type": "markdown",
   "id": "7c6e10d5",
   "metadata": {},
   "source": [
    "6. Media por columna para valores solo de numeros "
   ]
  },
  {
   "cell_type": "code",
   "execution_count": 13,
   "id": "f144d48d",
   "metadata": {},
   "outputs": [
    {
     "data": {
      "text/plain": [
       "Selling_Price        59638.151744\n",
       "Year                  2013.867107\n",
       "KM_Driven            34359.833176\n",
       "Ex_Showroom_Price    87958.714058\n",
       "dtype: float64"
      ]
     },
     "execution_count": 13,
     "metadata": {},
     "output_type": "execute_result"
    }
   ],
   "source": [
    "df.mean(numeric_only=True)\n",
    "\n"
   ]
  },
  {
   "cell_type": "markdown",
   "id": "6d9331bc",
   "metadata": {},
   "source": [
    "7. Halla el valor maximo de la columna precio de venta\n"
   ]
  },
  {
   "cell_type": "code",
   "execution_count": null,
   "id": "debb1415",
   "metadata": {},
   "outputs": [
    {
     "data": {
      "text/plain": [
       "np.int64(760000)"
      ]
     },
     "execution_count": 14,
     "metadata": {},
     "output_type": "execute_result"
    }
   ],
   "source": [
    "\n",
    "df['Selling_Price'].max()"
   ]
  },
  {
   "cell_type": "markdown",
   "id": "77d08515",
   "metadata": {},
   "source": [
    "8. calcula la diferencia entre la celda donde estoy y la celda anterior \n"
   ]
  },
  {
   "cell_type": "code",
   "execution_count": 15,
   "id": "8a127d34",
   "metadata": {},
   "outputs": [
    {
     "data": {
      "text/plain": [
       "0           NaN\n",
       "1      -12000.0\n",
       "2        2000.0\n",
       "3        5000.0\n",
       "4          -1.0\n",
       "         ...   \n",
       "1056    -9000.0\n",
       "1057   -70000.0\n",
       "1058    40000.0\n",
       "1059   -20000.0\n",
       "1060    -5000.0\n",
       "Name: Selling_Price, Length: 1061, dtype: float64"
      ]
     },
     "execution_count": 15,
     "metadata": {},
     "output_type": "execute_result"
    }
   ],
   "source": [
    "df['Selling_Price'].diff()"
   ]
  },
  {
   "cell_type": "markdown",
   "id": "f2c3b8c9",
   "metadata": {},
   "source": [
    "9. Me devuelve las dos primera letras de la comuna \"Brand\""
   ]
  },
  {
   "cell_type": "code",
   "execution_count": null,
   "id": "5d019306",
   "metadata": {},
   "outputs": [
    {
     "data": {
      "text/plain": [
       "0       TV\n",
       "1       Ba\n",
       "2       Yo\n",
       "3       Ba\n",
       "4       Ba\n",
       "        ..\n",
       "1056    Ro\n",
       "1057    He\n",
       "1058    Ba\n",
       "1059    He\n",
       "1060    He\n",
       "Name: Brand, Length: 1061, dtype: object"
      ]
     },
     "execution_count": 17,
     "metadata": {},
     "output_type": "execute_result"
    }
   ],
   "source": [
    "df['Brand'].str[:4]"
   ]
  },
  {
   "cell_type": "markdown",
   "id": "744bb31f",
   "metadata": {},
   "source": [
    "10. Devuelve la suma total de la marca \"TVS\""
   ]
  },
  {
   "cell_type": "code",
   "execution_count": null,
   "id": "c4af3c12",
   "metadata": {},
   "outputs": [
    {
     "data": {
      "text/plain": [
       "np.int64(69)"
      ]
     },
     "execution_count": 18,
     "metadata": {},
     "output_type": "execute_result"
    }
   ],
   "source": [
    "df['Brand'].str.contains('TVS').sum()"
   ]
  }
 ],
 "metadata": {
  "kernelspec": {
   "display_name": "Python 3",
   "language": "python",
   "name": "python3"
  },
  "language_info": {
   "codemirror_mode": {
    "name": "ipython",
    "version": 3
   },
   "file_extension": ".py",
   "mimetype": "text/x-python",
   "name": "python",
   "nbconvert_exporter": "python",
   "pygments_lexer": "ipython3",
   "version": "3.11.9"
  }
 },
 "nbformat": 4,
 "nbformat_minor": 5
}
